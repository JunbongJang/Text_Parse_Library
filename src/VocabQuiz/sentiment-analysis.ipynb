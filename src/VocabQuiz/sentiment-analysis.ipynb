{
 "cells": [
  {
   "cell_type": "code",
   "execution_count": 1,
   "metadata": {
    "collapsed": true,
    "pycharm": {
     "is_executing": false
    }
   },
   "outputs": [],
   "source": [
    "import spacy\n",
    "nlp = spacy.load('en_core_web_lg')\n"
   ]
  },
  {
   "cell_type": "code",
   "execution_count": 5,
   "outputs": [
    {
     "data": {
      "text/plain": "(300,)"
     },
     "metadata": {},
     "output_type": "execute_result",
     "execution_count": 5
    }
   ],
   "source": [
    "nlp('lion').vector.shape\n",
    "\n"
   ],
   "metadata": {
    "collapsed": false,
    "pycharm": {
     "name": "#%%\n",
     "is_executing": false
    }
   }
  },
  {
   "cell_type": "code",
   "execution_count": 6,
   "outputs": [],
   "source": [
    "tokens = nlp('lion cat pet')\n",
    "\n"
   ],
   "metadata": {
    "collapsed": false,
    "pycharm": {
     "name": "#%%\n",
     "is_executing": false
    }
   }
  },
  {
   "cell_type": "code",
   "execution_count": 8,
   "outputs": [
    {
     "name": "stdout",
     "text": [
      "lion",
      " ",
      "lion",
      " ",
      "1.0",
      "\n",
      "lion",
      " ",
      "cat",
      " ",
      "0.5265438",
      "\n",
      "lion",
      " ",
      "pet",
      " ",
      "0.39923766",
      "\n",
      "cat",
      " ",
      "lion",
      " ",
      "0.5265438",
      "\n",
      "cat",
      " ",
      "cat",
      " ",
      "1.0",
      "\n",
      "cat",
      " ",
      "pet",
      " ",
      "0.7505457",
      "\n",
      "pet",
      " ",
      "lion",
      " ",
      "0.39923766",
      "\n",
      "pet",
      " ",
      "cat",
      " ",
      "0.7505457",
      "\n",
      "pet",
      " ",
      "pet",
      " ",
      "1.0",
      "\n"
     ],
     "output_type": "stream"
    }
   ],
   "source": [
    "for token1 in tokens:\n",
    "    for token2 in tokens:\n",
    "        print(token1.text,token2.text, token1.similarity(token2))\n"
   ],
   "metadata": {
    "collapsed": false,
    "pycharm": {
     "name": "#%%\n",
     "is_executing": false
    }
   }
  }
 ],
 "metadata": {
  "language_info": {
   "codemirror_mode": {
    "name": "ipython",
    "version": 2
   },
   "file_extension": ".py",
   "mimetype": "text/x-python",
   "name": "python",
   "nbconvert_exporter": "python",
   "pygments_lexer": "ipython2",
   "version": "2.7.6"
  },
  "kernelspec": {
   "name": "python3",
   "language": "python",
   "display_name": "Python 3"
  },
  "pycharm": {
   "stem_cell": {
    "cell_type": "raw",
    "source": [],
    "metadata": {
     "collapsed": false
    }
   }
  }
 },
 "nbformat": 4,
 "nbformat_minor": 0
}